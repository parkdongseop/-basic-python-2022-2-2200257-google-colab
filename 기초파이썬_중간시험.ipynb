{
  "nbformat": 4,
  "nbformat_minor": 0,
  "metadata": {
    "colab": {
      "provenance": [],
      "collapsed_sections": [],
      "authorship_tag": "ABX9TyPdCwlos3ZZJAjPnOTftcWU",
      "include_colab_link": true
    },
    "kernelspec": {
      "name": "python3",
      "display_name": "Python 3"
    },
    "language_info": {
      "name": "python"
    }
  },
  "cells": [
    {
      "cell_type": "markdown",
      "metadata": {
        "id": "view-in-github",
        "colab_type": "text"
      },
      "source": [
        "<a href=\"https://colab.research.google.com/github/parkdongseop/-basic-python-2022-2-2200257-google-colab/blob/main/%EA%B8%B0%EC%B4%88%ED%8C%8C%EC%9D%B4%EC%8D%AC_%EC%A4%91%EA%B0%84%EC%8B%9C%ED%97%98.ipynb\" target=\"_parent\"><img src=\"https://colab.research.google.com/assets/colab-badge.svg\" alt=\"Open In Colab\"/></a>"
      ]
    },
    {
      "cell_type": "markdown",
      "source": [
        "19. 다음보기의 사칙연산을 완성하시오. 한줄에 모두, 여러줄로 나누어서, 보기좋게 정리 \n",
        "보기: 1 + 2, 2 - 3, 3 * 4, 4 / 4 윗줄이 답"
      ],
      "metadata": {
        "id": "5KdBiv-5TliV"
      }
    },
    {
      "cell_type": "code",
      "source": [
        "print(1+2, 2-3, 3*4, 4/4)\n",
        "print(1+2)\n",
        "print(2-3)\n",
        "print(3*4)\n",
        "print(4/4)"
      ],
      "metadata": {
        "colab": {
          "base_uri": "https://localhost:8080/"
        },
        "id": "WWc9xwvEUDr_",
        "outputId": "a24e6143-ec62-4412-f87d-facfed01627e"
      },
      "execution_count": null,
      "outputs": [
        {
          "output_type": "stream",
          "name": "stdout",
          "text": [
            "3 -1 12 1.0\n"
          ]
        }
      ]
    },
    {
      "cell_type": "markdown",
      "source": [
        "20. 아래의 출력화면을 간결하고 보기좋게 코딩하시오."
      ],
      "metadata": {
        "id": "UgKAN5J5UEFv"
      }
    },
    {
      "cell_type": "code",
      "source": [
        "print(\"*\" * 40)\n",
        "print(\"*\" 제1조 1항 대한민국은 민주공화국이다. \"*\")\n",
        "print(\"*\" * 40)"
      ],
      "metadata": {
        "id": "Vb97a4KKVCDJ"
      },
      "execution_count": null,
      "outputs": []
    },
    {
      "cell_type": "code",
      "source": [
        "name = input(\"이름을 입력하시오.:\")\n",
        "age = input(\"나이를 입력하시오.: \")\n",
        "addr = input(\"주소를 입력하시오,: \")\n",
        "print(\"이름: \"name, age, addr)"
      ],
      "metadata": {
        "colab": {
          "base_uri": "https://localhost:8080/"
        },
        "id": "8oz96OYyWTnx",
        "outputId": "6895820d-f72e-482c-b9f4-5a967494f9da"
      },
      "execution_count": null,
      "outputs": [
        {
          "output_type": "stream",
          "name": "stdout",
          "text": [
            "이름을 입력하시오.:유상민\n",
            "나이를 입력하시오.: 54\n",
            "주소를 입력하시오,: 전북군산시 미룡동\n",
            "유상민 54 전북군산시 미룡동\n"
          ]
        }
      ]
    },
    {
      "cell_type": "markdown",
      "source": [
        "import turtle: 라이브러리\n",
        "t = turtle.Turtle() 위에서 import한 터틀에 모든 함수 변수"
      ],
      "metadata": {
        "id": "Q4368pCkXXKX"
      }
    },
    {
      "cell_type": "markdown",
      "source": [],
      "metadata": {
        "id": "6zifMl4eZrwu"
      }
    },
    {
      "cell_type": "markdown",
      "source": [
        "29"
      ],
      "metadata": {
        "id": "y1_g_AH3ZtKa"
      }
    },
    {
      "cell_type": "code",
      "source": [
        "n1 = input(\"첫번째 정수를 입력하시오.: \")\n",
        "n2 = input(\"두번째 정수를 입력하시오.: \")\n",
        "print(\"두 합의 값은\", n1 + n2, \"입니다.\")\n"
      ],
      "metadata": {
        "colab": {
          "base_uri": "https://localhost:8080/"
        },
        "id": "tFqOsaNCZup0",
        "outputId": "4b71693d-b937-4620-d080-30a1c1258c86"
      },
      "execution_count": null,
      "outputs": [
        {
          "output_type": "stream",
          "name": "stdout",
          "text": [
            "첫번째 정수를 입력하시오.: 100\n",
            "두번째 정수를 입력하시오.: 100\n",
            "두 합의 값은 100100 입니다.\n"
          ]
        }
      ]
    },
    {
      "cell_type": "code",
      "source": [
        "n1 = int(input(\"첫번째 정수를 입력하시오.: \"))\n",
        "n2 = int(input(\"두번째 정수를 입력하시오.: \"))\n",
        "print(\"두 합의 값은\", n1 + n2, \"입니다.\")\n"
      ],
      "metadata": {
        "colab": {
          "base_uri": "https://localhost:8080/"
        },
        "id": "_NSDyZ8faYzl",
        "outputId": "a21d5ef4-0d0e-4735-dd0c-652a00a8e0ec"
      },
      "execution_count": null,
      "outputs": [
        {
          "name": "stdout",
          "output_type": "stream",
          "text": [
            "첫번째 정수를 입력하시오.: 10\n"
          ]
        }
      ]
    },
    {
      "cell_type": "code",
      "source": [],
      "metadata": {
        "id": "W280lD4MbTLR"
      },
      "execution_count": null,
      "outputs": []
    }
  ]
}