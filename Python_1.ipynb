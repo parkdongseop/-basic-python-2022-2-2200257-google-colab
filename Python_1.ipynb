{
  "nbformat": 4,
  "nbformat_minor": 0,
  "metadata": {
    "colab": {
      "provenance": [],
      "authorship_tag": "ABX9TyN8GhQd4rE8Txaqh4D9X6ZY",
      "include_colab_link": true
    },
    "kernelspec": {
      "name": "python3",
      "display_name": "Python 3"
    },
    "language_info": {
      "name": "python"
    }
  },
  "cells": [
    {
      "cell_type": "markdown",
      "metadata": {
        "id": "view-in-github",
        "colab_type": "text"
      },
      "source": [
        "<a href=\"https://colab.research.google.com/github/parkdongseop/-basic-python-2022-2-2200257-google-colab/blob/main/Python_1.ipynb\" target=\"_parent\"><img src=\"https://colab.research.google.com/assets/colab-badge.svg\" alt=\"Open In Colab\"/></a>"
      ]
    },
    {
      "cell_type": "code",
      "execution_count": null,
      "metadata": {
        "colab": {
          "base_uri": "https://localhost:8080/"
        },
        "id": "O13R-nmotzta",
        "outputId": "e14ca65a-7917-4b66-80f4-262a2d1453f2"
      },
      "outputs": [
        {
          "output_type": "stream",
          "name": "stdout",
          "text": [
            "Hello World\n"
          ]
        }
      ],
      "source": [
        "print(\"Hello World\")"
      ]
    },
    {
      "cell_type": "code",
      "source": [
        "print('Hello World')"
      ],
      "metadata": {
        "colab": {
          "base_uri": "https://localhost:8080/"
        },
        "id": "_0zo9uqJuuMD",
        "outputId": "0be47483-7a05-4296-be33-7d7fab6257ef"
      },
      "execution_count": null,
      "outputs": [
        {
          "output_type": "stream",
          "name": "stdout",
          "text": [
            "Hello World\n"
          ]
        }
      ]
    },
    {
      "cell_type": "code",
      "source": [
        "print(1+2)"
      ],
      "metadata": {
        "colab": {
          "base_uri": "https://localhost:8080/"
        },
        "id": "BQEhBQ91u2OG",
        "outputId": "794b427a-9672-4d2a-eb9c-008bfcafb304"
      },
      "execution_count": null,
      "outputs": [
        {
          "output_type": "stream",
          "name": "stdout",
          "text": [
            "3\n"
          ]
        }
      ]
    },
    {
      "cell_type": "code",
      "source": [
        "print(2*3)"
      ],
      "metadata": {
        "colab": {
          "base_uri": "https://localhost:8080/"
        },
        "id": "l_yp3-DkvA68",
        "outputId": "72a2b2ea-504c-4e73-b146-070b0e555fd2"
      },
      "execution_count": null,
      "outputs": [
        {
          "output_type": "stream",
          "name": "stdout",
          "text": [
            "6\n"
          ]
        }
      ]
    },
    {
      "cell_type": "code",
      "source": [
        "print(True)"
      ],
      "metadata": {
        "colab": {
          "base_uri": "https://localhost:8080/"
        },
        "id": "lgM_DNclwzcR",
        "outputId": "fcb1decf-c867-41c5-e370-e85082f36d0f"
      },
      "execution_count": null,
      "outputs": [
        {
          "output_type": "stream",
          "name": "stdout",
          "text": [
            "True\n"
          ]
        }
      ]
    },
    {
      "cell_type": "code",
      "source": [
        "print(False)"
      ],
      "metadata": {
        "colab": {
          "base_uri": "https://localhost:8080/"
        },
        "id": "pKqg_WFHw6Km",
        "outputId": "900eecbe-35c3-41f0-97da-27bbedd30c19"
      },
      "execution_count": null,
      "outputs": [
        {
          "output_type": "stream",
          "name": "stdout",
          "text": [
            "False\n"
          ]
        }
      ]
    },
    {
      "cell_type": "code",
      "source": [
        "a = 3;b = 4;c = a + b;print(c);print(a);print(b)"
      ],
      "metadata": {
        "colab": {
          "base_uri": "https://localhost:8080/"
        },
        "id": "-Oi883cfxCiY",
        "outputId": "7218d80b-2002-47f6-b09a-969fdc7e8eba"
      },
      "execution_count": null,
      "outputs": [
        {
          "output_type": "stream",
          "name": "stdout",
          "text": [
            "7\n",
            "3\n",
            "4\n"
          ]
        }
      ]
    },
    {
      "cell_type": "code",
      "source": [
        "a = \"안녕하세요.\";\n",
        "b = \"반갑습니다.\";\n",
        "c = a + b;\n",
        "print(c)"
      ],
      "metadata": {
        "colab": {
          "base_uri": "https://localhost:8080/"
        },
        "id": "P5BbBHfmx_vs",
        "outputId": "a0a3c88b-dcc6-4622-d618-a32a7a3fe877"
      },
      "execution_count": null,
      "outputs": [
        {
          "output_type": "stream",
          "name": "stdout",
          "text": [
            "안녕하세요.반갑습니다.\n"
          ]
        }
      ]
    },
    {
      "cell_type": "code",
      "source": [
        "a = \"안녕하세요.\";\n",
        "b = a*10;\n",
        "print(b)"
      ],
      "metadata": {
        "colab": {
          "base_uri": "https://localhost:8080/"
        },
        "id": "SKe5OWhLykdK",
        "outputId": "35419aa0-b79c-43aa-921f-3057187aba84"
      },
      "execution_count": null,
      "outputs": [
        {
          "output_type": "stream",
          "name": "stdout",
          "text": [
            "안녕하세요.안녕하세요.안녕하세요.안녕하세요.안녕하세요.안녕하세요.안녕하세요.안녕하세요.안녕하세요.안녕하세요.\n"
          ]
        }
      ]
    },
    {
      "cell_type": "code",
      "source": [
        "print(\"###############\")\n",
        "print(\"#\" * 15)"
      ],
      "metadata": {
        "colab": {
          "base_uri": "https://localhost:8080/"
        },
        "id": "Lu0xMapNzD1L",
        "outputId": "a644a0ad-ca70-4bd7-83bc-cb86b02c1a3e"
      },
      "execution_count": null,
      "outputs": [
        {
          "output_type": "stream",
          "name": "stdout",
          "text": [
            "###############\n",
            "###############\n"
          ]
        }
      ]
    },
    {
      "cell_type": "markdown",
      "source": [
        "아버지와 어머니, 그리고 삼촌에게 감사한 마음을 전하고 싶습니다. 아버지에게는 10만원, 어머니에게는 15만원, 삼촌에게는 \"감사합니다.\" 변수: _Father,-Mother,-Uncle"
      ],
      "metadata": {
        "id": "XZlPQwZ_0q0x"
      }
    },
    {
      "cell_type": "code",
      "source": [
        "_Father = \"100000\"\n",
        "_Mother = \"150000\"\n",
        "_Uncle = \"감사합니다.\"\n",
        "print(\"아버지=\", _Father, \"원\")\n",
        "print(\"어머니=\", _Mother, \"원\")\n",
        "print(\"삼촌=\", _Uncle)"
      ],
      "metadata": {
        "colab": {
          "base_uri": "https://localhost:8080/"
        },
        "id": "H0xOVMjU1Tbq",
        "outputId": "d4380013-d7b4-4c2d-af83-d837973267c6"
      },
      "execution_count": null,
      "outputs": [
        {
          "output_type": "stream",
          "name": "stdout",
          "text": [
            "아버지= 100000 원\n",
            "어머니= 150000 원\n",
            "삼촌= 감사합니다.\n"
          ]
        }
      ]
    },
    {
      "cell_type": "markdown",
      "source": [
        "변수의 규칙: 문자 또는 _로 시작(Father, father, _father), 문자, 숫자, _구성(Father69, father55, father_56), 공백 절대 안된다. 안쓰는 것이 좋다. 특수문자 절대 안된다."
      ],
      "metadata": {
        "id": "6ww76NkS2UKa"
      }
    },
    {
      "cell_type": "markdown",
      "source": [
        "FATHER, father, MOTHER, mother, _Father, _father, Keyword(True, False, for, while, if, continue, break, class...)"
      ],
      "metadata": {
        "id": "QAZBf_E14V8s"
      }
    },
    {
      "cell_type": "markdown",
      "source": [
        "숫자자료형 = 숫자, 문자자료형 = 모든 문자들..."
      ],
      "metadata": {
        "id": "EMXFmg035c_u"
      }
    },
    {
      "cell_type": "code",
      "source": [
        "a = 2 \n",
        "b = \"2\"\n",
        "c = a +int (b)\n",
        "print(c)"
      ],
      "metadata": {
        "colab": {
          "base_uri": "https://localhost:8080/"
        },
        "id": "9PCtdZmA5oSC",
        "outputId": "8a6322c2-c2f5-4340-f8e2-d339eb3874a1"
      },
      "execution_count": null,
      "outputs": [
        {
          "output_type": "stream",
          "name": "stdout",
          "text": [
            "4\n"
          ]
        }
      ]
    },
    {
      "cell_type": "markdown",
      "source": [
        "형변환: 정수형을 변환할 때int(), 실수형으로 변환하고자 할 때float(), 문자자료형으로 변환하고자 할 때 str(), int(float\"2.5\"))"
      ],
      "metadata": {
        "id": "wHSQr7Qs6206"
      }
    },
    {
      "cell_type": "markdown",
      "source": [
        "산술연산자 : + 더하기(print(4+3)), - 빼기 (print(2-1)), * 곱하기(print(5*4)). / 나누기(print(4/2)), % 나머지 print(5 % 2), // 몪 print(6 // 2), ***거듭제곱 print(4 ** 2)"
      ],
      "metadata": {
        "id": "iPjBhxuv-TNY"
      }
    }
  ]
}